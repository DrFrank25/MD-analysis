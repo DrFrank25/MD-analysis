{
  "nbformat": 4,
  "nbformat_minor": 0,
  "metadata": {
    "colab": {
      "provenance": [],
      "authorship_tag": "ABX9TyM/Z5Lug284Oxau6Kp0UHuA",
      "include_colab_link": true
    },
    "kernelspec": {
      "name": "python3",
      "display_name": "Python 3"
    },
    "language_info": {
      "name": "python"
    }
  },
  "cells": [
    {
      "cell_type": "markdown",
      "metadata": {
        "id": "view-in-github",
        "colab_type": "text"
      },
      "source": [
        "<a href=\"https://colab.research.google.com/github/DrFrank25/MD-analysis/blob/main/RMSD_LIG_NMDA.ipynb\" target=\"_parent\"><img src=\"https://colab.research.google.com/assets/colab-badge.svg\" alt=\"Open In Colab\"/></a>"
      ]
    },
    {
      "cell_type": "code",
      "source": [
        "# --- Script RMSD_Ligand with Savitzky–Golay smoothing ---\n",
        "import numpy as np\n",
        "import matplotlib.pyplot as plt\n",
        "from google.colab import files\n",
        "import pandas as pd\n",
        "from scipy.signal import savgol_filter"
      ],
      "metadata": {
        "id": "qlpi49gnF9Sb"
      },
      "execution_count": 1,
      "outputs": []
    },
    {
      "cell_type": "code",
      "source": [
        "# ===== Settings =====\n",
        "SMOOTH_WINDOW = 11  # maximum smoothing window size (must be odd)\n",
        "POLY_ORDER = 2      # polynomial order for Savitzky–Golay\n",
        "COLORS = ['#1f77b4', '#ff7f0e', '#2ca02c', '#d62728', '#9467bd', '#8c564b', '#e377c2']\n",
        "FIGSIZE = (11, 6)\n",
        "DPI = 1200\n",
        "# Legend names\n",
        "LEGEND_NAMES = [\"Run 1\", \"Run 2\", \"Run 3\"]\n",
        "# ====================\n",
        "# ==================="
      ],
      "metadata": {
        "id": "1TkfJtL9dKPZ"
      },
      "execution_count": 2,
      "outputs": []
    },
    {
      "cell_type": "code",
      "source": [
        "# File upload\n",
        "uploaded = files.upload()\n",
        "if not uploaded:\n",
        "    raise SystemExit(\"No file uploaded. Please upload .xvg files.\")"
      ],
      "metadata": {
        "colab": {
          "base_uri": "https://localhost:8080/",
          "height": 141
        },
        "id": "zEF1jQt3dQPg",
        "outputId": "28110b53-c4f0-4bb9-a7f7-53298603bedc"
      },
      "execution_count": 4,
      "outputs": [
        {
          "output_type": "display_data",
          "data": {
            "text/plain": [
              "<IPython.core.display.HTML object>"
            ],
            "text/html": [
              "\n",
              "     <input type=\"file\" id=\"files-5fa4ba29-be81-4f06-98b5-b32f68198cf5\" name=\"files[]\" multiple disabled\n",
              "        style=\"border:none\" />\n",
              "     <output id=\"result-5fa4ba29-be81-4f06-98b5-b32f68198cf5\">\n",
              "      Upload widget is only available when the cell has been executed in the\n",
              "      current browser session. Please rerun this cell to enable.\n",
              "      </output>\n",
              "      <script>// Copyright 2017 Google LLC\n",
              "//\n",
              "// Licensed under the Apache License, Version 2.0 (the \"License\");\n",
              "// you may not use this file except in compliance with the License.\n",
              "// You may obtain a copy of the License at\n",
              "//\n",
              "//      http://www.apache.org/licenses/LICENSE-2.0\n",
              "//\n",
              "// Unless required by applicable law or agreed to in writing, software\n",
              "// distributed under the License is distributed on an \"AS IS\" BASIS,\n",
              "// WITHOUT WARRANTIES OR CONDITIONS OF ANY KIND, either express or implied.\n",
              "// See the License for the specific language governing permissions and\n",
              "// limitations under the License.\n",
              "\n",
              "/**\n",
              " * @fileoverview Helpers for google.colab Python module.\n",
              " */\n",
              "(function(scope) {\n",
              "function span(text, styleAttributes = {}) {\n",
              "  const element = document.createElement('span');\n",
              "  element.textContent = text;\n",
              "  for (const key of Object.keys(styleAttributes)) {\n",
              "    element.style[key] = styleAttributes[key];\n",
              "  }\n",
              "  return element;\n",
              "}\n",
              "\n",
              "// Max number of bytes which will be uploaded at a time.\n",
              "const MAX_PAYLOAD_SIZE = 100 * 1024;\n",
              "\n",
              "function _uploadFiles(inputId, outputId) {\n",
              "  const steps = uploadFilesStep(inputId, outputId);\n",
              "  const outputElement = document.getElementById(outputId);\n",
              "  // Cache steps on the outputElement to make it available for the next call\n",
              "  // to uploadFilesContinue from Python.\n",
              "  outputElement.steps = steps;\n",
              "\n",
              "  return _uploadFilesContinue(outputId);\n",
              "}\n",
              "\n",
              "// This is roughly an async generator (not supported in the browser yet),\n",
              "// where there are multiple asynchronous steps and the Python side is going\n",
              "// to poll for completion of each step.\n",
              "// This uses a Promise to block the python side on completion of each step,\n",
              "// then passes the result of the previous step as the input to the next step.\n",
              "function _uploadFilesContinue(outputId) {\n",
              "  const outputElement = document.getElementById(outputId);\n",
              "  const steps = outputElement.steps;\n",
              "\n",
              "  const next = steps.next(outputElement.lastPromiseValue);\n",
              "  return Promise.resolve(next.value.promise).then((value) => {\n",
              "    // Cache the last promise value to make it available to the next\n",
              "    // step of the generator.\n",
              "    outputElement.lastPromiseValue = value;\n",
              "    return next.value.response;\n",
              "  });\n",
              "}\n",
              "\n",
              "/**\n",
              " * Generator function which is called between each async step of the upload\n",
              " * process.\n",
              " * @param {string} inputId Element ID of the input file picker element.\n",
              " * @param {string} outputId Element ID of the output display.\n",
              " * @return {!Iterable<!Object>} Iterable of next steps.\n",
              " */\n",
              "function* uploadFilesStep(inputId, outputId) {\n",
              "  const inputElement = document.getElementById(inputId);\n",
              "  inputElement.disabled = false;\n",
              "\n",
              "  const outputElement = document.getElementById(outputId);\n",
              "  outputElement.innerHTML = '';\n",
              "\n",
              "  const pickedPromise = new Promise((resolve) => {\n",
              "    inputElement.addEventListener('change', (e) => {\n",
              "      resolve(e.target.files);\n",
              "    });\n",
              "  });\n",
              "\n",
              "  const cancel = document.createElement('button');\n",
              "  inputElement.parentElement.appendChild(cancel);\n",
              "  cancel.textContent = 'Cancel upload';\n",
              "  const cancelPromise = new Promise((resolve) => {\n",
              "    cancel.onclick = () => {\n",
              "      resolve(null);\n",
              "    };\n",
              "  });\n",
              "\n",
              "  // Wait for the user to pick the files.\n",
              "  const files = yield {\n",
              "    promise: Promise.race([pickedPromise, cancelPromise]),\n",
              "    response: {\n",
              "      action: 'starting',\n",
              "    }\n",
              "  };\n",
              "\n",
              "  cancel.remove();\n",
              "\n",
              "  // Disable the input element since further picks are not allowed.\n",
              "  inputElement.disabled = true;\n",
              "\n",
              "  if (!files) {\n",
              "    return {\n",
              "      response: {\n",
              "        action: 'complete',\n",
              "      }\n",
              "    };\n",
              "  }\n",
              "\n",
              "  for (const file of files) {\n",
              "    const li = document.createElement('li');\n",
              "    li.append(span(file.name, {fontWeight: 'bold'}));\n",
              "    li.append(span(\n",
              "        `(${file.type || 'n/a'}) - ${file.size} bytes, ` +\n",
              "        `last modified: ${\n",
              "            file.lastModifiedDate ? file.lastModifiedDate.toLocaleDateString() :\n",
              "                                    'n/a'} - `));\n",
              "    const percent = span('0% done');\n",
              "    li.appendChild(percent);\n",
              "\n",
              "    outputElement.appendChild(li);\n",
              "\n",
              "    const fileDataPromise = new Promise((resolve) => {\n",
              "      const reader = new FileReader();\n",
              "      reader.onload = (e) => {\n",
              "        resolve(e.target.result);\n",
              "      };\n",
              "      reader.readAsArrayBuffer(file);\n",
              "    });\n",
              "    // Wait for the data to be ready.\n",
              "    let fileData = yield {\n",
              "      promise: fileDataPromise,\n",
              "      response: {\n",
              "        action: 'continue',\n",
              "      }\n",
              "    };\n",
              "\n",
              "    // Use a chunked sending to avoid message size limits. See b/62115660.\n",
              "    let position = 0;\n",
              "    do {\n",
              "      const length = Math.min(fileData.byteLength - position, MAX_PAYLOAD_SIZE);\n",
              "      const chunk = new Uint8Array(fileData, position, length);\n",
              "      position += length;\n",
              "\n",
              "      const base64 = btoa(String.fromCharCode.apply(null, chunk));\n",
              "      yield {\n",
              "        response: {\n",
              "          action: 'append',\n",
              "          file: file.name,\n",
              "          data: base64,\n",
              "        },\n",
              "      };\n",
              "\n",
              "      let percentDone = fileData.byteLength === 0 ?\n",
              "          100 :\n",
              "          Math.round((position / fileData.byteLength) * 100);\n",
              "      percent.textContent = `${percentDone}% done`;\n",
              "\n",
              "    } while (position < fileData.byteLength);\n",
              "  }\n",
              "\n",
              "  // All done.\n",
              "  yield {\n",
              "    response: {\n",
              "      action: 'complete',\n",
              "    }\n",
              "  };\n",
              "}\n",
              "\n",
              "scope.google = scope.google || {};\n",
              "scope.google.colab = scope.google.colab || {};\n",
              "scope.google.colab._files = {\n",
              "  _uploadFiles,\n",
              "  _uploadFilesContinue,\n",
              "};\n",
              "})(self);\n",
              "</script> "
            ]
          },
          "metadata": {}
        },
        {
          "output_type": "stream",
          "name": "stdout",
          "text": [
            "Saving rmsd_lig1.xvg to rmsd_lig1.xvg\n",
            "Saving rmsd_Lig2.1.xvg to rmsd_Lig2.1.xvg\n",
            "Saving rmsd_lig3.xvg to rmsd_lig3.xvg\n"
          ]
        }
      ]
    },
    {
      "cell_type": "code",
      "source": [
        "# Function to read .xvg data\n",
        "def read_xvg_from_bytes(content_bytes, encoding='utf-8'):\n",
        "    s = content_bytes.decode(encoding, errors='replace')\n",
        "    times, vals = [], []\n",
        "    for line in s.splitlines():\n",
        "        line = line.strip()\n",
        "        if not line or line.startswith(('#', '@')):\n",
        "            continue\n",
        "        parts = line.split()\n",
        "        if len(parts) >= 2:\n",
        "            try:\n",
        "                times.append(float(parts[0]))\n",
        "                vals.append(float(parts[1]))\n",
        "            except ValueError:\n",
        "                continue\n",
        "    return np.array(times), np.array(vals)\n",
        "\n",
        "plt.figure(figsize=FIGSIZE)"
      ],
      "metadata": {
        "colab": {
          "base_uri": "https://localhost:8080/",
          "height": 52
        },
        "id": "vqoi-9zodcdi",
        "outputId": "b922233e-0619-4a78-c3fd-61046e39f9c9"
      },
      "execution_count": 5,
      "outputs": [
        {
          "output_type": "execute_result",
          "data": {
            "text/plain": [
              "<Figure size 1100x600 with 0 Axes>"
            ]
          },
          "metadata": {},
          "execution_count": 5
        },
        {
          "output_type": "display_data",
          "data": {
            "text/plain": [
              "<Figure size 1100x600 with 0 Axes>"
            ]
          },
          "metadata": {}
        }
      ]
    },
    {
      "cell_type": "code",
      "source": [
        "\n"
      ],
      "metadata": {
        "id": "d8b_hZ0TlcMT"
      },
      "execution_count": null,
      "outputs": []
    },
    {
      "cell_type": "code",
      "source": [
        "# Loop over uploaded files\n",
        "for i, (name, content) in enumerate(uploaded.items()):\n",
        "    time, rmsd = read_xvg_from_bytes(content)\n",
        "\n",
        "    if time.size == 0 or rmsd.size == 0:\n",
        "        print(f\"Warning: '{name}' contains no valid data. Skipping.\")\n",
        "        continue\n",
        "\n",
        "    # Sort by time\n",
        "    order = np.argsort(time)\n",
        "    time = time[order]\n",
        "    rmsd = rmsd[order]\n",
        "\n",
        "    # --- Interpolation to normalize the time axis ---\n",
        "    # Define a common time axis (e.g., 0 up to max, step of 0.5 ns)\n",
        "    common_time = np.arange(0, np.nanmax(time), 0.5)  # adjust step here\n",
        "\n",
        "    # Interpolate only valid points\n",
        "    mask_valid_interp = np.isfinite(time) & np.isfinite(rmsd)\n",
        "    rmsd_interp = np.interp(common_time, time[mask_valid_interp], rmsd[mask_valid_interp])\n",
        "\n",
        "    # Replace variables for the rest of the code\n",
        "    time = common_time\n",
        "    rmsd = rmsd_interp\n",
        "\n",
        "    # Mask for valid data\n",
        "    mask_valid = np.isfinite(time) & np.isfinite(rmsd) & (time >= 0) & (rmsd >= 0)\n",
        "    valid_points = np.sum(mask_valid)\n",
        "\n",
        "    # Window adjustment for small datasets\n",
        "    window = min(SMOOTH_WINDOW, valid_points if valid_points > 3 else 1)\n",
        "    if window % 2 == 0:\n",
        "        window = max(5, window - 1)  # window must be odd\n",
        "\n",
        "    time_masked = np.where(mask_valid, time, np.nan)\n",
        "    rmsd_masked = np.where(mask_valid, rmsd, np.nan)\n",
        "\n",
        "    mean_val = np.nanmean(rmsd_masked)\n",
        "    std_val = np.nanstd(rmsd_masked)\n",
        "\n",
        "    # Savitzky–Golay smoothing\n",
        "    if valid_points >= 3 and window > POLY_ORDER:\n",
        "        smooth_valid = savgol_filter(\n",
        "            rmsd_masked[mask_valid],\n",
        "            window_length=window,\n",
        "            polyorder=POLY_ORDER,\n",
        "            mode='interp'\n",
        "        )\n",
        "        smooth = np.full_like(rmsd_masked, np.nan)\n",
        "        smooth[mask_valid] = smooth_valid\n",
        "    else:\n",
        "        smooth = rmsd_masked.copy()\n",
        "\n",
        "    color = COLORS[i % len(COLORS)]\n",
        "\n",
        "    # Curve name for legend\n",
        "    curve_name = LEGEND_NAMES[i] if i < len(LEGEND_NAMES) else f\"Run {i+1}\"\n",
        "\n",
        "    # Raw curve\n",
        "    valid_raw = np.isfinite(time_masked) & np.isfinite(rmsd_masked)\n",
        "    plt.plot(time_masked[valid_raw], rmsd_masked[valid_raw],\n",
        "             linewidth=1.0, alpha=0.15, color=color)\n",
        "\n",
        "    # Smoothed curve\n",
        "    valid_smooth = np.isfinite(time_masked) & np.isfinite(smooth)\n",
        "    plt.plot(time_masked[valid_smooth], smooth[valid_smooth],\n",
        "             label=f\"{curve_name}\")\n",
        "\n",
        "    # ± standard deviation band\n",
        "    low = smooth[valid_smooth] + std_val\n",
        "    high = smooth[valid_smooth] - std_val\n",
        "    plt.fill_between(time_masked[valid_smooth], low, high, alpha=0.05, color=color)\n",
        "\n",
        "    print(f\"{curve_name}:\")\n",
        "    print(f\"  Mean: {mean_val:.2f} nm\")\n",
        "    print(f\"  Standard deviation: {std_val:.1f} nm\\n\")\n",
        "\n",
        "    # Axes configuration\n",
        "    plt.xlabel(\"Time (ns)\", fontsize=12)\n",
        "    plt.ylabel(\"RMSD (nm)\", fontsize=12)\n",
        "    plt.tick_params(axis='both', which='major', labelsize=14)\n",
        "\n",
        "    # Tick range\n",
        "    plt.xlim(-1, 101)  # X-axis limits\n",
        "    plt.ylim(0.1, 1.2)  # Y-axis limits\n",
        "    plt.xticks(np.arange(0, 101, 25))     # from 0 to 100, step 25\n",
        "    plt.yticks(np.arange(0.0, 1.21, 0.2))  # from 0 to 1.2, step 0.2\n",
        "\n",
        "    # Desired run names\n",
        "    run_names = [\"Run 1\", \"Run 2\", \"Run 3\"]\n",
        "\n",
        "# Custom legend\n",
        "plt.legend(\n",
        "    loc='upper right',\n",
        "    fontsize=10,\n",
        "    frameon=True,\n",
        "    facecolor='white',\n",
        "    edgecolor='white',\n",
        "    fancybox=False,\n",
        "    shadow=False\n",
        ")\n",
        "\n",
        "plt.grid(False)\n",
        "plt.tight_layout()\n",
        "\n",
        "# --- Save and render the figure (at the end of the script, BEFORE plt.show()) ---\n",
        "fig = plt.gcf()  # get the current figure (the one just plotted)\n",
        "fig.tight_layout()\n",
        "fig.canvas.draw()  # force rendering in Colab\n"
      ],
      "metadata": {
        "colab": {
          "base_uri": "https://localhost:8080/",
          "height": 694
        },
        "id": "YIH8CMSVdckZ",
        "outputId": "66282ea0-78fd-4442-c212-91297849a9c1"
      },
      "execution_count": 6,
      "outputs": [
        {
          "output_type": "stream",
          "name": "stdout",
          "text": [
            "Run 1:\n",
            "  Mean: 0.05 nm\n",
            "  Standard deviation: 0.0 nm\n",
            "\n",
            "Run 2:\n",
            "  Mean: 0.06 nm\n",
            "  Standard deviation: 0.0 nm\n",
            "\n",
            "Run 3:\n",
            "  Mean: 0.05 nm\n",
            "  Standard deviation: 0.0 nm\n",
            "\n"
          ]
        },
        {
          "output_type": "display_data",
          "data": {
            "text/plain": [
              "<Figure size 640x480 with 1 Axes>"
            ],
            "image/png": "[encoded data removed]"
          },
          "metadata": {}
        }
      ]
    },
    {
      "cell_type": "code",
      "source": [
        "# Save figure in high resolution with a specific name\n",
        "fig.savefig(\n",
        "    \"rmsd_Lig_NMDA.png\",\n",
        "    dpi=1200,\n",
        "    bbox_inches='tight',\n",
        "    transparent=False  # change to False if you prefer a solid background\n",
        ")\n",
        "\n",
        "plt.show()\n",
        "\n",
        "from google.colab import files\n",
        "files.download(\"rmsd_Lig_NMDA.png\")"
      ],
      "metadata": {
        "id": "0bCtz4RcdctA",
        "colab": {
          "base_uri": "https://localhost:8080/",
          "height": 17
        },
        "outputId": "11d3ae79-e883-44cb-ac9a-94c26d32fe57"
      },
      "execution_count": 9,
      "outputs": [
        {
          "output_type": "display_data",
          "data": {
            "text/plain": [
              "<IPython.core.display.Javascript object>"
            ],
            "application/javascript": [
              "\n",
              "    async function download(id, filename, size) {\n",
              "      if (!google.colab.kernel.accessAllowed) {\n",
              "        return;\n",
              "      }\n",
              "      const div = document.createElement('div');\n",
              "      const label = document.createElement('label');\n",
              "      label.textContent = `Downloading \"${filename}\": `;\n",
              "      div.appendChild(label);\n",
              "      const progress = document.createElement('progress');\n",
              "      progress.max = size;\n",
              "      div.appendChild(progress);\n",
              "      document.body.appendChild(div);\n",
              "\n",
              "      const buffers = [];\n",
              "      let downloaded = 0;\n",
              "\n",
              "      const channel = await google.colab.kernel.comms.open(id);\n",
              "      // Send a message to notify the kernel that we're ready.\n",
              "      channel.send({})\n",
              "\n",
              "      for await (const message of channel.messages) {\n",
              "        // Send a message to notify the kernel that we're ready.\n",
              "        channel.send({})\n",
              "        if (message.buffers) {\n",
              "          for (const buffer of message.buffers) {\n",
              "            buffers.push(buffer);\n",
              "            downloaded += buffer.byteLength;\n",
              "            progress.value = downloaded;\n",
              "          }\n",
              "        }\n",
              "      }\n",
              "      const blob = new Blob(buffers, {type: 'application/binary'});\n",
              "      const a = document.createElement('a');\n",
              "      a.href = window.URL.createObjectURL(blob);\n",
              "      a.download = filename;\n",
              "      div.appendChild(a);\n",
              "      a.click();\n",
              "      div.remove();\n",
              "    }\n",
              "  "
            ]
          },
          "metadata": {}
        },
        {
          "output_type": "display_data",
          "data": {
            "text/plain": [
              "<IPython.core.display.Javascript object>"
            ],
            "application/javascript": [
              "download(\"download_a136e913-4002-4725-82e2-07849062a656\", \"rmsd_Lig_NMDA.png\", 881425)"
            ]
          },
          "metadata": {}
        }
      ]
    },
    {
      "cell_type": "code",
      "source": [
        "# ======================\n",
        "# Overall mean of the 3 runs (raw values)\n",
        "# ======================\n",
        "\n",
        "# === Global statistics with raw data (from uploaded files) ===\n",
        "all_values = []\n",
        "\n",
        "for name, content in uploaded.items():\n",
        "    time, rmsd = read_xvg_from_bytes(content)\n",
        "    mask_valid = np.isfinite(rmsd) & (rmsd >= 0)\n",
        "    if np.any(mask_valid):\n",
        "        all_values.extend(rmsd[mask_valid])\n",
        "\n",
        "all_values = np.array(all_values)\n",
        "\n",
        "global_mean = np.mean(all_values)\n",
        "global_std = np.std(all_values)\n",
        "\n",
        "print(\"\\n=== Global mean statistics (raw data) ===\")\n",
        "print(f\"Global mean: {global_mean:.4f} nm\")\n",
        "print(f\"Global standard deviation: {global_std:.4f} nm\")"
      ],
      "metadata": {
        "id": "4UrQ7VmqdcyR",
        "colab": {
          "base_uri": "https://localhost:8080/"
        },
        "outputId": "d82b8439-eca7-42a3-ce86-293b52f4b6d0"
      },
      "execution_count": 10,
      "outputs": [
        {
          "output_type": "stream",
          "name": "stdout",
          "text": [
            "\n",
            "=== Global mean statistics (raw data) ===\n",
            "Global mean: 0.0508 nm\n",
            "Global standard deviation: 0.0175 nm\n"
          ]
        }
      ]
    }
  ]
}