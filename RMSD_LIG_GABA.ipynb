{
  "nbformat": 4,
  "nbformat_minor": 0,
  "metadata": {
    "colab": {
      "provenance": [],
      "authorship_tag": "ABX9TyMLS9wA5n8QKwAfY693bs0S",
      "include_colab_link": true
    },
    "kernelspec": {
      "name": "python3",
      "display_name": "Python 3"
    },
    "language_info": {
      "name": "python"
    }
  },
  "cells": [
    {
      "cell_type": "markdown",
      "metadata": {
        "id": "view-in-github",
        "colab_type": "text"
      },
      "source": [
        "<a href=\"https://colab.research.google.com/github/DrFrank25/MD-analysis/blob/main/RMSD_LIG_GABA.ipynb\" target=\"_parent\"><img src=\"https://colab.research.google.com/assets/colab-badge.svg\" alt=\"Open In Colab\"/></a>"
      ]
    },
    {
      "cell_type": "markdown",
      "source": [
        "**Script RMSD_Ligand with suavização Smoothing**"
      ],
      "metadata": {
        "id": "sPxoiXJSM7NO"
      }
    },
    {
      "cell_type": "code",
      "source": [
        "# --- Import libraries ---\n",
        "import numpy as np\n",
        "import matplotlib.pyplot as plt\n",
        "from google.colab import files\n",
        "import pandas as pd\n",
        "from scipy.signal import savgol_filter"
      ],
      "metadata": {
        "id": "qlpi49gnF9Sb"
      },
      "execution_count": null,
      "outputs": []
    },
    {
      "cell_type": "code",
      "source": [
        "# ===== Ajustes =====\n",
        "SMOOTH_WINDOW = 11  # tamanho máximo da janela de suavização (ímpar)\n",
        "POLY_ORDER = 2      # ordem do polinômio para Savitzky–Golay\n",
        "COLORS = ['#1f77b4', '#ff7f0e', '#2ca02c', '#d62728', '#9467bd', '#8c564b', '#e377c2']\n",
        "FIGSIZE = (11, 6)\n",
        "DPI = 1200\n",
        "# Nomes para a legenda\n",
        "NOMES_LEGENDA = [\"Run 1\", \"Run 2\", \"Run 3\"]\n",
        "# ==================="
      ],
      "metadata": {
        "id": "1TkfJtL9dKPZ"
      },
      "execution_count": null,
      "outputs": []
    },
    {
      "cell_type": "code",
      "source": [
        "# Upload de arquivos\n",
        "uploaded = files.upload()\n",
        "if not uploaded:\n",
        "    raise SystemExit(\"Nenhum arquivo carregado. Faça upload de arquivos .xvg.\")\n",
        "\n",
        "\n"
      ],
      "metadata": {
        "colab": {
          "base_uri": "https://localhost:8080/",
          "height": 144
        },
        "id": "zEF1jQt3dQPg",
        "outputId": "e1da855e-6d53-44f1-d718-dbcf5ba3111c"
      },
      "execution_count": null,
      "outputs": [
        {
          "output_type": "display_data",
          "data": {
            "text/plain": [
              "<IPython.core.display.HTML object>"
            ],
            "text/html": [
              "\n",
              "     <input type=\"file\" id=\"files-59a52e25-545d-4c81-977e-a0cec8662255\" name=\"files[]\" multiple disabled\n",
              "        style=\"border:none\" />\n",
              "     <output id=\"result-59a52e25-545d-4c81-977e-a0cec8662255\">\n",
              "      Upload widget is only available when the cell has been executed in the\n",
              "      current browser session. Please rerun this cell to enable.\n",
              "      </output>\n",
              "      <script>// Copyright 2017 Google LLC\n",
              "//\n",
              "// Licensed under the Apache License, Version 2.0 (the \"License\");\n",
              "// you may not use this file except in compliance with the License.\n",
              "// You may obtain a copy of the License at\n",
              "//\n",
              "//      http://www.apache.org/licenses/LICENSE-2.0\n",
              "//\n",
              "// Unless required by applicable law or agreed to in writing, software\n",
              "// distributed under the License is distributed on an \"AS IS\" BASIS,\n",
              "// WITHOUT WARRANTIES OR CONDITIONS OF ANY KIND, either express or implied.\n",
              "// See the License for the specific language governing permissions and\n",
              "// limitations under the License.\n",
              "\n",
              "/**\n",
              " * @fileoverview Helpers for google.colab Python module.\n",
              " */\n",
              "(function(scope) {\n",
              "function span(text, styleAttributes = {}) {\n",
              "  const element = document.createElement('span');\n",
              "  element.textContent = text;\n",
              "  for (const key of Object.keys(styleAttributes)) {\n",
              "    element.style[key] = styleAttributes[key];\n",
              "  }\n",
              "  return element;\n",
              "}\n",
              "\n",
              "// Max number of bytes which will be uploaded at a time.\n",
              "const MAX_PAYLOAD_SIZE = 100 * 1024;\n",
              "\n",
              "function _uploadFiles(inputId, outputId) {\n",
              "  const steps = uploadFilesStep(inputId, outputId);\n",
              "  const outputElement = document.getElementById(outputId);\n",
              "  // Cache steps on the outputElement to make it available for the next call\n",
              "  // to uploadFilesContinue from Python.\n",
              "  outputElement.steps = steps;\n",
              "\n",
              "  return _uploadFilesContinue(outputId);\n",
              "}\n",
              "\n",
              "// This is roughly an async generator (not supported in the browser yet),\n",
              "// where there are multiple asynchronous steps and the Python side is going\n",
              "// to poll for completion of each step.\n",
              "// This uses a Promise to block the python side on completion of each step,\n",
              "// then passes the result of the previous step as the input to the next step.\n",
              "function _uploadFilesContinue(outputId) {\n",
              "  const outputElement = document.getElementById(outputId);\n",
              "  const steps = outputElement.steps;\n",
              "\n",
              "  const next = steps.next(outputElement.lastPromiseValue);\n",
              "  return Promise.resolve(next.value.promise).then((value) => {\n",
              "    // Cache the last promise value to make it available to the next\n",
              "    // step of the generator.\n",
              "    outputElement.lastPromiseValue = value;\n",
              "    return next.value.response;\n",
              "  });\n",
              "}\n",
              "\n",
              "/**\n",
              " * Generator function which is called between each async step of the upload\n",
              " * process.\n",
              " * @param {string} inputId Element ID of the input file picker element.\n",
              " * @param {string} outputId Element ID of the output display.\n",
              " * @return {!Iterable<!Object>} Iterable of next steps.\n",
              " */\n",
              "function* uploadFilesStep(inputId, outputId) {\n",
              "  const inputElement = document.getElementById(inputId);\n",
              "  inputElement.disabled = false;\n",
              "\n",
              "  const outputElement = document.getElementById(outputId);\n",
              "  outputElement.innerHTML = '';\n",
              "\n",
              "  const pickedPromise = new Promise((resolve) => {\n",
              "    inputElement.addEventListener('change', (e) => {\n",
              "      resolve(e.target.files);\n",
              "    });\n",
              "  });\n",
              "\n",
              "  const cancel = document.createElement('button');\n",
              "  inputElement.parentElement.appendChild(cancel);\n",
              "  cancel.textContent = 'Cancel upload';\n",
              "  const cancelPromise = new Promise((resolve) => {\n",
              "    cancel.onclick = () => {\n",
              "      resolve(null);\n",
              "    };\n",
              "  });\n",
              "\n",
              "  // Wait for the user to pick the files.\n",
              "  const files = yield {\n",
              "    promise: Promise.race([pickedPromise, cancelPromise]),\n",
              "    response: {\n",
              "      action: 'starting',\n",
              "    }\n",
              "  };\n",
              "\n",
              "  cancel.remove();\n",
              "\n",
              "  // Disable the input element since further picks are not allowed.\n",
              "  inputElement.disabled = true;\n",
              "\n",
              "  if (!files) {\n",
              "    return {\n",
              "      response: {\n",
              "        action: 'complete',\n",
              "      }\n",
              "    };\n",
              "  }\n",
              "\n",
              "  for (const file of files) {\n",
              "    const li = document.createElement('li');\n",
              "    li.append(span(file.name, {fontWeight: 'bold'}));\n",
              "    li.append(span(\n",
              "        `(${file.type || 'n/a'}) - ${file.size} bytes, ` +\n",
              "        `last modified: ${\n",
              "            file.lastModifiedDate ? file.lastModifiedDate.toLocaleDateString() :\n",
              "                                    'n/a'} - `));\n",
              "    const percent = span('0% done');\n",
              "    li.appendChild(percent);\n",
              "\n",
              "    outputElement.appendChild(li);\n",
              "\n",
              "    const fileDataPromise = new Promise((resolve) => {\n",
              "      const reader = new FileReader();\n",
              "      reader.onload = (e) => {\n",
              "        resolve(e.target.result);\n",
              "      };\n",
              "      reader.readAsArrayBuffer(file);\n",
              "    });\n",
              "    // Wait for the data to be ready.\n",
              "    let fileData = yield {\n",
              "      promise: fileDataPromise,\n",
              "      response: {\n",
              "        action: 'continue',\n",
              "      }\n",
              "    };\n",
              "\n",
              "    // Use a chunked sending to avoid message size limits. See b/62115660.\n",
              "    let position = 0;\n",
              "    do {\n",
              "      const length = Math.min(fileData.byteLength - position, MAX_PAYLOAD_SIZE);\n",
              "      const chunk = new Uint8Array(fileData, position, length);\n",
              "      position += length;\n",
              "\n",
              "      const base64 = btoa(String.fromCharCode.apply(null, chunk));\n",
              "      yield {\n",
              "        response: {\n",
              "          action: 'append',\n",
              "          file: file.name,\n",
              "          data: base64,\n",
              "        },\n",
              "      };\n",
              "\n",
              "      let percentDone = fileData.byteLength === 0 ?\n",
              "          100 :\n",
              "          Math.round((position / fileData.byteLength) * 100);\n",
              "      percent.textContent = `${percentDone}% done`;\n",
              "\n",
              "    } while (position < fileData.byteLength);\n",
              "  }\n",
              "\n",
              "  // All done.\n",
              "  yield {\n",
              "    response: {\n",
              "      action: 'complete',\n",
              "    }\n",
              "  };\n",
              "}\n",
              "\n",
              "scope.google = scope.google || {};\n",
              "scope.google.colab = scope.google.colab || {};\n",
              "scope.google.colab._files = {\n",
              "  _uploadFiles,\n",
              "  _uploadFilesContinue,\n",
              "};\n",
              "})(self);\n",
              "</script> "
            ]
          },
          "metadata": {}
        },
        {
          "output_type": "stream",
          "name": "stdout",
          "text": [
            "Saving rmsd_Lig1.xvg to rmsd_Lig1.xvg\n",
            "Saving rmsd_Lig2.xvg to rmsd_Lig2.xvg\n",
            "Saving rmsd_Lig3.xvg to rmsd_Lig3.xvg\n"
          ]
        }
      ]
    },
    {
      "cell_type": "code",
      "source": [
        "# Função para ler dados .xvg\n",
        "def ler_xvg_from_bytes(content_bytes, encoding='utf-8'):\n",
        "    s = content_bytes.decode(encoding, errors='replace')\n",
        "    tempos, vals = [], []\n",
        "    for linha in s.splitlines():\n",
        "        linha = linha.strip()\n",
        "        if not linha or linha.startswith(('#', '@')):\n",
        "            continue\n",
        "        partes = linha.split()\n",
        "        if len(partes) >= 2:\n",
        "            try:\n",
        "                tempos.append(float(partes[0]))\n",
        "                vals.append(float(partes[1]))\n",
        "            except ValueError:\n",
        "                continue\n",
        "    return np.array(tempos), np.array(vals)\n",
        "\n",
        "plt.figure(figsize=FIGSIZE)"
      ],
      "metadata": {
        "colab": {
          "base_uri": "https://localhost:8080/",
          "height": 53
        },
        "id": "vqoi-9zodcdi",
        "outputId": "12b91b87-d1cd-4d9a-ba71-f3137a3bd10b"
      },
      "execution_count": null,
      "outputs": [
        {
          "output_type": "execute_result",
          "data": {
            "text/plain": [
              "<Figure size 1100x600 with 0 Axes>"
            ]
          },
          "metadata": {},
          "execution_count": 4
        },
        {
          "output_type": "display_data",
          "data": {
            "text/plain": [
              "<Figure size 1100x600 with 0 Axes>"
            ]
          },
          "metadata": {}
        }
      ]
    },
    {
      "cell_type": "code",
      "source": [
        "\n"
      ],
      "metadata": {
        "id": "d8b_hZ0TlcMT"
      },
      "execution_count": null,
      "outputs": []
    },
    {
      "cell_type": "code",
      "source": [
        "# Loop pelos arquivos enviados\n",
        "for i, (nome, content) in enumerate(uploaded.items()):\n",
        "    tempo, rmsd = ler_xvg_from_bytes(content)\n",
        "\n",
        "    if tempo.size == 0 or rmsd.size == 0:\n",
        "        print(f\"Aviso: '{nome}' sem dados válidos. Pulando.\")\n",
        "        continue\n",
        "\n",
        "    # Ordena por tempo\n",
        "    ordem = np.argsort(tempo)\n",
        "    tempo = tempo[ordem]\n",
        "    rmsd = rmsd[ordem]\n",
        "\n",
        "    # --- Interpolação para uniformizar o eixo de tempo ---\n",
        "    # Define um eixo de tempo comum (ex.: 0 até o máximo, com passo de 1 ns)\n",
        "    tempo_comum = np.arange(0, np.nanmax(tempo), 0.5)  # ajuste o passo aqui\n",
        "\n",
        "    # Interpola apenas os pontos válidos\n",
        "    mask_valid_interp = np.isfinite(tempo) & np.isfinite(rmsd)\n",
        "    rmsd_interp = np.interp(tempo_comum, tempo[mask_valid_interp], rmsd[mask_valid_interp])\n",
        "\n",
        "    # Substitui as variáveis para usar no resto do código\n",
        "    tempo = tempo_comum\n",
        "    rmsd = rmsd_interp\n",
        "\n",
        "    # Máscara de dados válidos\n",
        "    mask_valid = np.isfinite(tempo) & np.isfinite(rmsd) & (tempo >= 0) & (rmsd >= 0)\n",
        "    pontos_validos = np.sum(mask_valid)\n",
        "\n",
        "    # Ajuste de janela para dados pequenos\n",
        "    janela = min(SMOOTH_WINDOW, pontos_validos if pontos_validos > 2 else 1)\n",
        "    if janela % 2 == 0:\n",
        "        janela = max(3, janela - 1)  # janela precisa ser ímpar\n",
        "\n",
        "    tempo_masked = np.where(mask_valid, tempo, np.nan)\n",
        "    rmsd_masked = np.where(mask_valid, rmsd, np.nan)\n",
        "\n",
        "    media = np.nanmean(rmsd_masked)\n",
        "    desvio = np.nanstd(rmsd_masked)\n",
        "\n",
        "    # Suavização Savitzky–Golay\n",
        "    if pontos_validos >= 3 and janela > POLY_ORDER:\n",
        "        smooth_valid = savgol_filter(\n",
        "            rmsd_masked[mask_valid],\n",
        "            window_length=janela,\n",
        "            polyorder=POLY_ORDER,\n",
        "            mode='interp'\n",
        "        )\n",
        "        smooth = np.full_like(rmsd_masked, np.nan)\n",
        "        smooth[mask_valid] = smooth_valid\n",
        "    else:\n",
        "        smooth = rmsd_masked.copy()\n",
        "\n",
        "    color = COLORS[i % len(COLORS)]\n",
        "\n",
        "\n",
        "    # Nome da curva para legenda\n",
        "    nome_curva = NOMES_LEGENDA[i] if i < len(NOMES_LEGENDA) else f\"Run {i+1}\"\n",
        "\n",
        "    # Curva crua\n",
        "    valid_raw = np.isfinite(tempo_masked) & np.isfinite(rmsd_masked)\n",
        "    plt.plot(tempo_masked[valid_raw], rmsd_masked[valid_raw],\n",
        "             linewidth=1.0, alpha=0.15, color=color)\n",
        "\n",
        "    # Curva suavizada\n",
        "    valid_smooth = np.isfinite(tempo_masked) & np.isfinite(smooth)\n",
        "    plt.plot(tempo_masked[valid_smooth], smooth[valid_smooth],\n",
        "             label=f\"{nome_curva}\")\n",
        "\n",
        "    # Faixa ± desvio\n",
        "    low = smooth[valid_smooth] + desvio\n",
        "    high = smooth[valid_smooth] - desvio\n",
        "    plt.fill_between(tempo_masked[valid_smooth], low, high, alpha=0.05, color=color)\n",
        "\n",
        "    print(f\"{nome_curva}:\")\n",
        "    print(f\"  Média: {media:.4f} nm\")\n",
        "    print(f\"  Desvio padrão: {desvio:.4f} nm\\n\")\n",
        "\n",
        "    # Configuração dos eixos\n",
        "    plt.xlabel(\"Time (ns)\", fontsize=12)\n",
        "    plt.ylabel(\"RMSD (nm)\", fontsize=12)\n",
        "    plt.tick_params(axis='both', which='major', labelsize=14)\n",
        "\n",
        "    # Intervalo dos ticks\n",
        "    plt.xlim(-1, 101)  # limite eixo X\n",
        "    plt.ylim(0.03, 0.5)  # limite eixo Y\n",
        "    plt.xticks(np.arange(0, 101, 25))     # de 0 a 105, passo 25\n",
        "    plt.yticks(np.arange(0.0, 0.51, 0.1))  # de 0 a 1, passo 0.05\n",
        "\n",
        "    # Lista de nomes desejados\n",
        "    nomes_runs = [\"Run 1\", \"Run 2\", \"Run 3\"]\n",
        "\n",
        "\n",
        "# Legenda personalizada\n",
        "plt.legend(\n",
        "    loc='upper right',\n",
        "    fontsize=10,\n",
        "    frameon=True,\n",
        "    facecolor='white',\n",
        "    edgecolor='white',\n",
        "    fancybox=False,\n",
        "    shadow=False\n",
        ")\n",
        "\n",
        "plt.grid(False)\n",
        "plt.tight_layout()\n",
        "# --- salvar e baixar a figura (no final do script, ANTES de plt.show()) ---\n",
        "fig = plt.gcf()  # pega a figura atual (a que você acabou de plotar)\n",
        "fig.tight_layout()\n",
        "fig.canvas.draw()  # força a renderização no Colab\n",
        "plt.show()\n"
      ],
      "metadata": {
        "colab": {
          "base_uri": "https://localhost:8080/",
          "height": 703
        },
        "id": "YIH8CMSVdckZ",
        "outputId": "f5dab361-ae86-4b16-fb4a-21904326c300"
      },
      "execution_count": null,
      "outputs": [
        {
          "output_type": "stream",
          "name": "stdout",
          "text": [
            "Run 1:\n",
            "  Média: 0.0969 nm\n",
            "  Desvio padrão: 0.0149 nm\n",
            "\n",
            "Run 2:\n",
            "  Média: 0.0930 nm\n",
            "  Desvio padrão: 0.0153 nm\n",
            "\n",
            "Run 3:\n",
            "  Média: 0.0965 nm\n",
            "  Desvio padrão: 0.0150 nm\n",
            "\n"
          ]
        },
        {
          "output_type": "display_data",
          "data": {
            "text/plain": [
              "<Figure size 640x480 with 1 Axes>"
            ],
            "image/png": "[encoded data removed]"
          },
          "metadata": {}
        }
      ]
    },
    {
      "cell_type": "code",
      "source": [
        "# Salva figura em alta resolução com nome específico\n",
        "fig.savefig(\n",
        "    \"rmsd_Lig_GABA.png\",\n",
        "    dpi=1200,\n",
        "    bbox_inches='tight',\n",
        "    transparent=False  # pode trocar para False se preferir fundo sólido\n",
        ")\n",
        "\n",
        "from google.colab import files\n",
        "files.download(\"rmsd_Lig_GABA.png\")"
      ],
      "metadata": {
        "id": "0bCtz4RcdctA",
        "colab": {
          "base_uri": "https://localhost:8080/",
          "height": 17
        },
        "outputId": "61dfe639-852a-4d9a-d76d-30863f90358c"
      },
      "execution_count": null,
      "outputs": [
        {
          "output_type": "display_data",
          "data": {
            "text/plain": [
              "<IPython.core.display.Javascript object>"
            ],
            "application/javascript": [
              "\n",
              "    async function download(id, filename, size) {\n",
              "      if (!google.colab.kernel.accessAllowed) {\n",
              "        return;\n",
              "      }\n",
              "      const div = document.createElement('div');\n",
              "      const label = document.createElement('label');\n",
              "      label.textContent = `Downloading \"${filename}\": `;\n",
              "      div.appendChild(label);\n",
              "      const progress = document.createElement('progress');\n",
              "      progress.max = size;\n",
              "      div.appendChild(progress);\n",
              "      document.body.appendChild(div);\n",
              "\n",
              "      const buffers = [];\n",
              "      let downloaded = 0;\n",
              "\n",
              "      const channel = await google.colab.kernel.comms.open(id);\n",
              "      // Send a message to notify the kernel that we're ready.\n",
              "      channel.send({})\n",
              "\n",
              "      for await (const message of channel.messages) {\n",
              "        // Send a message to notify the kernel that we're ready.\n",
              "        channel.send({})\n",
              "        if (message.buffers) {\n",
              "          for (const buffer of message.buffers) {\n",
              "            buffers.push(buffer);\n",
              "            downloaded += buffer.byteLength;\n",
              "            progress.value = downloaded;\n",
              "          }\n",
              "        }\n",
              "      }\n",
              "      const blob = new Blob(buffers, {type: 'application/binary'});\n",
              "      const a = document.createElement('a');\n",
              "      a.href = window.URL.createObjectURL(blob);\n",
              "      a.download = filename;\n",
              "      div.appendChild(a);\n",
              "      a.click();\n",
              "      div.remove();\n",
              "    }\n",
              "  "
            ]
          },
          "metadata": {}
        },
        {
          "output_type": "display_data",
          "data": {
            "text/plain": [
              "<IPython.core.display.Javascript object>"
            ],
            "application/javascript": [
              "download(\"download_8898ff29-9f9d-488d-82df-e4bc0f02dde6\", \"rmsd_Lig_GABA.png\", 1629945)"
            ]
          },
          "metadata": {}
        }
      ]
    },
    {
      "cell_type": "code",
      "source": [
        "# ======================\n",
        "# Média geral das 3 runs (valores brutos)\n",
        "# ======================\n",
        "\n",
        "# === Estatísticas globais com dados brutos (a partir do upload) ===\n",
        "todos_valores = []\n",
        "\n",
        "for nome, content in uploaded.items():\n",
        "    tempo, rmsd = ler_xvg_from_bytes(content)\n",
        "    mask_valid = np.isfinite(rmsd) & (rmsd >= 0)\n",
        "    if np.any(mask_valid):\n",
        "        todos_valores.extend(rmsd[mask_valid])\n",
        "\n",
        "todos_valores = np.array(todos_valores)\n",
        "\n",
        "media_global = np.mean(todos_valores)\n",
        "desvio_global = np.std(todos_valores)\n",
        "\n",
        "print(\"\\n=== Estatísticas da média geral (dados brutos) ===\")\n",
        "print(f\"Média global: {media_global:.4f} nm\")\n",
        "print(f\"Desvio padrão global: {desvio_global:.4f} nm\")"
      ],
      "metadata": {
        "id": "4UrQ7VmqdcyR",
        "colab": {
          "base_uri": "https://localhost:8080/"
        },
        "outputId": "62438de8-6b3b-449c-83cf-4e9274147953"
      },
      "execution_count": null,
      "outputs": [
        {
          "output_type": "stream",
          "name": "stdout",
          "text": [
            "\n",
            "=== Estatísticas da média geral (dados brutos) ===\n",
            "Média global: 0.0957 nm\n",
            "Desvio padrão global: 0.0135 nm\n"
          ]
        }
      ]
    }
  ]
}